{
 "cells": [
  {
   "cell_type": "code",
   "execution_count": 1,
   "id": "f3c13040",
   "metadata": {},
   "outputs": [],
   "source": [
    "import pandas as pd"
   ]
  },
  {
   "cell_type": "code",
   "execution_count": 2,
   "id": "dff43040",
   "metadata": {},
   "outputs": [
    {
     "data": {
      "text/html": [
       "<div>\n",
       "<style scoped>\n",
       "    .dataframe tbody tr th:only-of-type {\n",
       "        vertical-align: middle;\n",
       "    }\n",
       "\n",
       "    .dataframe tbody tr th {\n",
       "        vertical-align: top;\n",
       "    }\n",
       "\n",
       "    .dataframe thead th {\n",
       "        text-align: right;\n",
       "    }\n",
       "</style>\n",
       "<table border=\"1\" class=\"dataframe\">\n",
       "  <thead>\n",
       "    <tr style=\"text-align: right;\">\n",
       "      <th></th>\n",
       "      <th>Response ID</th>\n",
       "      <th>Status</th>\n",
       "      <th>Department</th>\n",
       "      <th>Director</th>\n",
       "      <th>Manager</th>\n",
       "      <th>Supervisor</th>\n",
       "      <th>Staff</th>\n",
       "      <th>Question</th>\n",
       "      <th>Response</th>\n",
       "      <th>Response Text</th>\n",
       "    </tr>\n",
       "  </thead>\n",
       "  <tbody>\n",
       "    <tr>\n",
       "      <th>0</th>\n",
       "      <td>1</td>\n",
       "      <td>Complete</td>\n",
       "      <td>Human Resources</td>\n",
       "      <td>0</td>\n",
       "      <td>1</td>\n",
       "      <td>0</td>\n",
       "      <td>0</td>\n",
       "      <td>1. I know what is expected of me at work</td>\n",
       "      <td>4.0</td>\n",
       "      <td>Strongly Agree</td>\n",
       "    </tr>\n",
       "    <tr>\n",
       "      <th>1</th>\n",
       "      <td>2</td>\n",
       "      <td>Complete</td>\n",
       "      <td>Communications Office</td>\n",
       "      <td>0</td>\n",
       "      <td>0</td>\n",
       "      <td>0</td>\n",
       "      <td>0</td>\n",
       "      <td>1. I know what is expected of me at work</td>\n",
       "      <td>4.0</td>\n",
       "      <td>Strongly Agree</td>\n",
       "    </tr>\n",
       "    <tr>\n",
       "      <th>2</th>\n",
       "      <td>3</td>\n",
       "      <td>Complete</td>\n",
       "      <td>Parks and Recreation</td>\n",
       "      <td>0</td>\n",
       "      <td>1</td>\n",
       "      <td>0</td>\n",
       "      <td>0</td>\n",
       "      <td>1. I know what is expected of me at work</td>\n",
       "      <td>0.0</td>\n",
       "      <td>Not Applicable</td>\n",
       "    </tr>\n",
       "    <tr>\n",
       "      <th>3</th>\n",
       "      <td>4</td>\n",
       "      <td>Complete</td>\n",
       "      <td>Human Resources</td>\n",
       "      <td>0</td>\n",
       "      <td>1</td>\n",
       "      <td>0</td>\n",
       "      <td>0</td>\n",
       "      <td>1. I know what is expected of me at work</td>\n",
       "      <td>3.0</td>\n",
       "      <td>Agree</td>\n",
       "    </tr>\n",
       "    <tr>\n",
       "      <th>4</th>\n",
       "      <td>5</td>\n",
       "      <td>Complete</td>\n",
       "      <td>Communications Office</td>\n",
       "      <td>0</td>\n",
       "      <td>0</td>\n",
       "      <td>0</td>\n",
       "      <td>0</td>\n",
       "      <td>1. I know what is expected of me at work</td>\n",
       "      <td>0.0</td>\n",
       "      <td>Not Applicable</td>\n",
       "    </tr>\n",
       "  </tbody>\n",
       "</table>\n",
       "</div>"
      ],
      "text/plain": [
       "   Response ID    Status             Department  Director  Manager  \\\n",
       "0            1  Complete        Human Resources         0        1   \n",
       "1            2  Complete  Communications Office         0        0   \n",
       "2            3  Complete   Parks and Recreation         0        1   \n",
       "3            4  Complete        Human Resources         0        1   \n",
       "4            5  Complete  Communications Office         0        0   \n",
       "\n",
       "   Supervisor  Staff                                  Question  Response  \\\n",
       "0           0      0  1. I know what is expected of me at work       4.0   \n",
       "1           0      0  1. I know what is expected of me at work       4.0   \n",
       "2           0      0  1. I know what is expected of me at work       0.0   \n",
       "3           0      0  1. I know what is expected of me at work       3.0   \n",
       "4           0      0  1. I know what is expected of me at work       0.0   \n",
       "\n",
       "    Response Text  \n",
       "0  Strongly Agree  \n",
       "1  Strongly Agree  \n",
       "2  Not Applicable  \n",
       "3           Agree  \n",
       "4  Not Applicable  "
      ]
     },
     "execution_count": 2,
     "metadata": {},
     "output_type": "execute_result"
    }
   ],
   "source": [
    "df=pd.read_excel('HR Employee Survey Responses.xlsx')\n",
    "df.head()"
   ]
  },
  {
   "cell_type": "code",
   "execution_count": 3,
   "id": "2132c9fc",
   "metadata": {},
   "outputs": [
    {
     "data": {
      "text/plain": [
       "Response ID        int64\n",
       "Status            object\n",
       "Department        object\n",
       "Director           int64\n",
       "Manager            int64\n",
       "Supervisor         int64\n",
       "Staff              int64\n",
       "Question          object\n",
       "Response         float64\n",
       "Response Text     object\n",
       "dtype: object"
      ]
     },
     "execution_count": 3,
     "metadata": {},
     "output_type": "execute_result"
    }
   ],
   "source": [
    "df.dtypes"
   ]
  },
  {
   "cell_type": "code",
   "execution_count": 4,
   "id": "e7bae19f",
   "metadata": {},
   "outputs": [
    {
     "data": {
      "text/plain": [
       "Response ID        0\n",
       "Status             0\n",
       "Department         0\n",
       "Director           0\n",
       "Manager            0\n",
       "Supervisor         0\n",
       "Staff              0\n",
       "Question           0\n",
       "Response         135\n",
       "Response Text    135\n",
       "dtype: int64"
      ]
     },
     "execution_count": 4,
     "metadata": {},
     "output_type": "execute_result"
    }
   ],
   "source": [
    "df.isnull().sum()"
   ]
  },
  {
   "cell_type": "code",
   "execution_count": 5,
   "id": "c082c532",
   "metadata": {},
   "outputs": [],
   "source": [
    "df['Response'].fillna(df['Response'].median(), inplace=True)"
   ]
  },
  {
   "cell_type": "code",
   "execution_count": 6,
   "id": "e0c5f760",
   "metadata": {},
   "outputs": [],
   "source": [
    "df.fillna('Not Available', inplace=True)"
   ]
  },
  {
   "cell_type": "code",
   "execution_count": 7,
   "id": "833a0587",
   "metadata": {},
   "outputs": [],
   "source": [
    "df['Status'] = df['Status'].astype('category')\n",
    "df['Question'] = df['Question'].astype('str')\n",
    "df['Response'] = df['Response'].astype(int)\n",
    "df['Response Text'] = df['Response Text'].astype('category')"
   ]
  },
  {
   "cell_type": "code",
   "execution_count": 8,
   "id": "f9046577",
   "metadata": {
    "scrolled": true
   },
   "outputs": [
    {
     "data": {
      "text/plain": [
       "Response ID         int64\n",
       "Status           category\n",
       "Department         object\n",
       "Director            int64\n",
       "Manager             int64\n",
       "Supervisor          int64\n",
       "Staff               int64\n",
       "Question           object\n",
       "Response            int64\n",
       "Response Text    category\n",
       "dtype: object"
      ]
     },
     "execution_count": 8,
     "metadata": {},
     "output_type": "execute_result"
    }
   ],
   "source": [
    "df.dtypes"
   ]
  },
  {
   "cell_type": "code",
   "execution_count": 9,
   "id": "2ca79419",
   "metadata": {},
   "outputs": [],
   "source": [
    "df['Question'] = df['Question'].str.replace('&', 'and', case=False)"
   ]
  },
  {
   "cell_type": "code",
   "execution_count": 10,
   "id": "fce24106",
   "metadata": {},
   "outputs": [
    {
     "data": {
      "text/plain": [
       "15"
      ]
     },
     "execution_count": 10,
     "metadata": {},
     "output_type": "execute_result"
    }
   ],
   "source": [
    "df['Response ID'].duplicated().sum()"
   ]
  },
  {
   "cell_type": "code",
   "execution_count": 11,
   "id": "5297eb63",
   "metadata": {},
   "outputs": [],
   "source": [
    "df2 = df.drop_duplicates(subset=['Response ID'])"
   ]
  },
  {
   "cell_type": "code",
   "execution_count": 12,
   "id": "a79cecb6",
   "metadata": {},
   "outputs": [
    {
     "data": {
      "text/plain": [
       "0"
      ]
     },
     "execution_count": 12,
     "metadata": {},
     "output_type": "execute_result"
    }
   ],
   "source": [
    "df2.duplicated().sum()"
   ]
  },
  {
   "cell_type": "code",
   "execution_count": 13,
   "id": "0eab72bc",
   "metadata": {},
   "outputs": [
    {
     "data": {
      "text/plain": [
       "Response ID      0\n",
       "Status           0\n",
       "Department       0\n",
       "Director         0\n",
       "Manager          0\n",
       "Supervisor       0\n",
       "Staff            0\n",
       "Question         0\n",
       "Response         0\n",
       "Response Text    0\n",
       "dtype: int64"
      ]
     },
     "execution_count": 13,
     "metadata": {},
     "output_type": "execute_result"
    }
   ],
   "source": [
    "df2.isnull().sum()"
   ]
  },
  {
   "cell_type": "code",
   "execution_count": 14,
   "id": "703b0bd2",
   "metadata": {},
   "outputs": [
    {
     "data": {
      "text/html": [
       "<div>\n",
       "<style scoped>\n",
       "    .dataframe tbody tr th:only-of-type {\n",
       "        vertical-align: middle;\n",
       "    }\n",
       "\n",
       "    .dataframe tbody tr th {\n",
       "        vertical-align: top;\n",
       "    }\n",
       "\n",
       "    .dataframe thead th {\n",
       "        text-align: right;\n",
       "    }\n",
       "</style>\n",
       "<table border=\"1\" class=\"dataframe\">\n",
       "  <thead>\n",
       "    <tr style=\"text-align: right;\">\n",
       "      <th></th>\n",
       "      <th>Response ID</th>\n",
       "      <th>Status</th>\n",
       "      <th>Department</th>\n",
       "      <th>Director</th>\n",
       "      <th>Manager</th>\n",
       "      <th>Supervisor</th>\n",
       "      <th>Staff</th>\n",
       "      <th>Question</th>\n",
       "      <th>Response</th>\n",
       "      <th>Response Text</th>\n",
       "    </tr>\n",
       "  </thead>\n",
       "  <tbody>\n",
       "    <tr>\n",
       "      <th>0</th>\n",
       "      <td>1</td>\n",
       "      <td>Complete</td>\n",
       "      <td>Human Resources</td>\n",
       "      <td>0</td>\n",
       "      <td>1</td>\n",
       "      <td>0</td>\n",
       "      <td>0</td>\n",
       "      <td>1. I know what is expected of me at work</td>\n",
       "      <td>4</td>\n",
       "      <td>Strongly Agree</td>\n",
       "    </tr>\n",
       "    <tr>\n",
       "      <th>1</th>\n",
       "      <td>2</td>\n",
       "      <td>Complete</td>\n",
       "      <td>Communications Office</td>\n",
       "      <td>0</td>\n",
       "      <td>0</td>\n",
       "      <td>0</td>\n",
       "      <td>0</td>\n",
       "      <td>1. I know what is expected of me at work</td>\n",
       "      <td>4</td>\n",
       "      <td>Strongly Agree</td>\n",
       "    </tr>\n",
       "    <tr>\n",
       "      <th>2</th>\n",
       "      <td>3</td>\n",
       "      <td>Complete</td>\n",
       "      <td>Parks and Recreation</td>\n",
       "      <td>0</td>\n",
       "      <td>1</td>\n",
       "      <td>0</td>\n",
       "      <td>0</td>\n",
       "      <td>1. I know what is expected of me at work</td>\n",
       "      <td>0</td>\n",
       "      <td>Not Applicable</td>\n",
       "    </tr>\n",
       "    <tr>\n",
       "      <th>3</th>\n",
       "      <td>4</td>\n",
       "      <td>Complete</td>\n",
       "      <td>Human Resources</td>\n",
       "      <td>0</td>\n",
       "      <td>1</td>\n",
       "      <td>0</td>\n",
       "      <td>0</td>\n",
       "      <td>1. I know what is expected of me at work</td>\n",
       "      <td>3</td>\n",
       "      <td>Agree</td>\n",
       "    </tr>\n",
       "    <tr>\n",
       "      <th>4</th>\n",
       "      <td>5</td>\n",
       "      <td>Complete</td>\n",
       "      <td>Communications Office</td>\n",
       "      <td>0</td>\n",
       "      <td>0</td>\n",
       "      <td>0</td>\n",
       "      <td>0</td>\n",
       "      <td>1. I know what is expected of me at work</td>\n",
       "      <td>0</td>\n",
       "      <td>Not Applicable</td>\n",
       "    </tr>\n",
       "  </tbody>\n",
       "</table>\n",
       "</div>"
      ],
      "text/plain": [
       "   Response ID    Status             Department  Director  Manager  \\\n",
       "0            1  Complete        Human Resources         0        1   \n",
       "1            2  Complete  Communications Office         0        0   \n",
       "2            3  Complete   Parks and Recreation         0        1   \n",
       "3            4  Complete        Human Resources         0        1   \n",
       "4            5  Complete  Communications Office         0        0   \n",
       "\n",
       "   Supervisor  Staff                                  Question  Response  \\\n",
       "0           0      0  1. I know what is expected of me at work         4   \n",
       "1           0      0  1. I know what is expected of me at work         4   \n",
       "2           0      0  1. I know what is expected of me at work         0   \n",
       "3           0      0  1. I know what is expected of me at work         3   \n",
       "4           0      0  1. I know what is expected of me at work         0   \n",
       "\n",
       "    Response Text  \n",
       "0  Strongly Agree  \n",
       "1  Strongly Agree  \n",
       "2  Not Applicable  \n",
       "3           Agree  \n",
       "4  Not Applicable  "
      ]
     },
     "execution_count": 14,
     "metadata": {},
     "output_type": "execute_result"
    }
   ],
   "source": [
    "df2.head()"
   ]
  },
  {
   "cell_type": "code",
   "execution_count": 16,
   "id": "b71506d1",
   "metadata": {},
   "outputs": [
    {
     "data": {
      "text/plain": [
       "Response ID         int64\n",
       "Status           category\n",
       "Department         object\n",
       "Director            int64\n",
       "Manager             int64\n",
       "Supervisor          int64\n",
       "Staff               int64\n",
       "Question           object\n",
       "Response            int64\n",
       "Response Text    category\n",
       "dtype: object"
      ]
     },
     "execution_count": 16,
     "metadata": {},
     "output_type": "execute_result"
    }
   ],
   "source": [
    "df2.dtypes"
   ]
  },
  {
   "cell_type": "code",
   "execution_count": 15,
   "id": "ed24c6f3",
   "metadata": {},
   "outputs": [],
   "source": [
    "df2.to_excel(f\"HR Employee Survey Responses(Clean Set).xlsx\",index=False)\n"
   ]
  }
 ],
 "metadata": {
  "kernelspec": {
   "display_name": "Python 3 (ipykernel)",
   "language": "python",
   "name": "python3"
  },
  "language_info": {
   "codemirror_mode": {
    "name": "ipython",
    "version": 3
   },
   "file_extension": ".py",
   "mimetype": "text/x-python",
   "name": "python",
   "nbconvert_exporter": "python",
   "pygments_lexer": "ipython3",
   "version": "3.9.13"
  }
 },
 "nbformat": 4,
 "nbformat_minor": 5
}
